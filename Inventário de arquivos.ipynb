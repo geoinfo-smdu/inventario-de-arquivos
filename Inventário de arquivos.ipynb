{
 "cells": [
  {
   "cell_type": "markdown",
   "metadata": {},
   "source": [
    "# Inventário de arquivos"
   ]
  },
  {
   "cell_type": "code",
   "execution_count": 2,
   "metadata": {},
   "outputs": [],
   "source": [
    "import os\n",
    "import env\n",
    "\n",
    "filepaths = [os.path.join(env.folder, f) for f in os.listdir(env.folder)]"
   ]
  },
  {
   "cell_type": "code",
   "execution_count": 3,
   "metadata": {},
   "outputs": [
    {
     "data": {
      "text/plain": [
       "['K:/Thumbs.db',\n",
       " 'K:/Bases_Cartograficas',\n",
       " 'K:/Interno',\n",
       " 'K:/PlanosRegionais',\n",
       " 'K:/Transf_Arquivos_Fora_do_Deinfo',\n",
       " 'K:/listadepresenca_2017.doc',\n",
       " 'K:/~$stadepresenca_2017.doc',\n",
       " 'K:/~$boco_informe rev Duque.docx']"
      ]
     },
     "execution_count": 3,
     "metadata": {},
     "output_type": "execute_result"
    }
   ],
   "source": [
    "filepaths"
   ]
  },
  {
   "cell_type": "code",
   "execution_count": 4,
   "metadata": {},
   "outputs": [],
   "source": [
    "filepaths = [f.path for f in os.scandir(env.folder) if f.is_file()]\n",
    "dirpaths  = [f.path for f in os.scandir(env.folder) if f.is_dir()]"
   ]
  },
  {
   "cell_type": "code",
   "execution_count": 5,
   "metadata": {},
   "outputs": [
    {
     "data": {
      "text/plain": [
       "os.stat_result(st_mode=16895, st_ino=6434225158214210074, st_dev=162, st_nlink=1, st_uid=0, st_gid=0, st_size=0, st_atime=1578082058, st_mtime=1576076735, st_ctime=1492112447)"
      ]
     },
     "execution_count": 5,
     "metadata": {},
     "output_type": "execute_result"
    }
   ],
   "source": [
    "os.stat(env.folder)"
   ]
  },
  {
   "cell_type": "code",
   "execution_count": null,
   "metadata": {},
   "outputs": [],
   "source": [
    "import glob2\n",
    "filepaths = glob2.glob(env.folder + '**/*.shp', recursive=True)\n"
   ]
  },
  {
   "cell_type": "code",
   "execution_count": null,
   "metadata": {},
   "outputs": [],
   "source": [
    "filepaths"
   ]
  }
 ],
 "metadata": {
  "kernelspec": {
   "display_name": "Python 3",
   "language": "python",
   "name": "python3"
  },
  "language_info": {
   "codemirror_mode": {
    "name": "ipython",
    "version": 3
   },
   "file_extension": ".py",
   "mimetype": "text/x-python",
   "name": "python",
   "nbconvert_exporter": "python",
   "pygments_lexer": "ipython3",
   "version": "3.7.3"
  }
 },
 "nbformat": 4,
 "nbformat_minor": 2
}
